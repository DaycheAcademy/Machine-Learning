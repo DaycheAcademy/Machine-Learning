{
 "cells": [
  {
   "cell_type": "code",
   "execution_count": 94,
   "metadata": {},
   "outputs": [],
   "source": [
    "import numpy as np \n",
    "from sklearn.datasets import load_breast_cancer\n",
    "from sklearn import tree\n",
    "from sklearn.tree import DecisionTreeClassifier\n",
    "from sklearn.model_selection import train_test_split\n",
    "from sklearn.metrics import confusion_matrix\n",
    "import matplotlib.pyplot as plt \n",
    "from sklearn.preprocessing import StandardScaler, MinMaxScaler"
   ]
  },
  {
   "cell_type": "code",
   "execution_count": 95,
   "metadata": {},
   "outputs": [],
   "source": [
    "data = load_breast_cancer()\n",
    "X = data.data\n",
    "y = data.target\n",
    "X_train, X_test, y_train, y_test = train_test_split(X, y, test_size = 0.3)\n",
    "# scaler_x = MinMaxScaler().fit(X_train)\n",
    "# X_train, X_test = scaler_x.transform(X_train), scaler_x.transform(X_test)\n"
   ]
  },
  {
   "cell_type": "code",
   "execution_count": 109,
   "metadata": {},
   "outputs": [
    {
     "data": {
      "text/plain": [
       "[Text(193.15384615384616, 199.32, 'X[22] <= 109.9\\nentropy = 0.966\\nsamples = 398\\nvalue = [156, 242]'),\n",
       " Text(128.76923076923077, 163.07999999999998, 'X[27] <= 0.135\\nentropy = 0.398\\nsamples = 254\\nvalue = [20, 234]'),\n",
       " Text(77.26153846153846, 126.83999999999999, 'X[18] <= 0.016\\nentropy = 0.101\\nsamples = 227\\nvalue = [3, 224]'),\n",
       " Text(51.50769230769231, 90.6, 'X[1] <= 18.025\\nentropy = 0.25\\nsamples = 72\\nvalue = [3, 69]'),\n",
       " Text(25.753846153846155, 54.359999999999985, 'entropy = 0.0\\nsamples = 46\\nvalue = [0, 46]'),\n",
       " Text(77.26153846153846, 54.359999999999985, 'X[15] <= 0.013\\nentropy = 0.516\\nsamples = 26\\nvalue = [3, 23]'),\n",
       " Text(51.50769230769231, 18.119999999999976, 'entropy = 0.881\\nsamples = 10\\nvalue = [3, 7]'),\n",
       " Text(103.01538461538462, 18.119999999999976, 'entropy = 0.0\\nsamples = 16\\nvalue = [0, 16]'),\n",
       " Text(103.01538461538462, 90.6, 'entropy = 0.0\\nsamples = 155\\nvalue = [0, 155]'),\n",
       " Text(180.27692307692308, 126.83999999999999, 'X[1] <= 19.71\\nentropy = 0.951\\nsamples = 27\\nvalue = [17, 10]'),\n",
       " Text(154.52307692307693, 90.6, 'entropy = 0.918\\nsamples = 15\\nvalue = [5, 10]'),\n",
       " Text(206.03076923076924, 90.6, 'entropy = 0.0\\nsamples = 12\\nvalue = [12, 0]'),\n",
       " Text(257.53846153846155, 163.07999999999998, 'X[1] <= 16.61\\nentropy = 0.31\\nsamples = 144\\nvalue = [136, 8]'),\n",
       " Text(231.7846153846154, 126.83999999999999, 'entropy = 0.996\\nsamples = 13\\nvalue = [6, 7]'),\n",
       " Text(283.2923076923077, 126.83999999999999, 'X[15] <= 0.056\\nentropy = 0.065\\nsamples = 131\\nvalue = [130, 1]'),\n",
       " Text(257.53846153846155, 90.6, 'entropy = 0.0\\nsamples = 121\\nvalue = [121, 0]'),\n",
       " Text(309.04615384615386, 90.6, 'entropy = 0.469\\nsamples = 10\\nvalue = [9, 1]')]"
      ]
     },
     "execution_count": 109,
     "metadata": {},
     "output_type": "execute_result"
    },
    {
     "data": {
      "image/png": "[encoded data removed]",
      "text/plain": [
       "<Figure size 432x288 with 1 Axes>"
      ]
     },
     "metadata": {
      "needs_background": "light"
     },
     "output_type": "display_data"
    }
   ],
   "source": [
    "model = DecisionTreeClassifier(criterion = 'entropy', min_samples_split = 10, min_samples_leaf = 10)\n",
    "model.fit(X_train, y_train)\n",
    "tree.plot_tree(model)"
   ]
  },
  {
   "cell_type": "code",
   "execution_count": 111,
   "metadata": {},
   "outputs": [
    {
     "data": {
      "text/plain": [
       "array([[ 46,  10],\n",
       "       [  6, 109]], dtype=int64)"
      ]
     },
     "execution_count": 111,
     "metadata": {},
     "output_type": "execute_result"
    }
   ],
   "source": [
    "y_pre = model.predict(X_test)\n",
    "confusion_matrix(y_pre, y_test).T"
   ]
  },
  {
   "cell_type": "code",
   "execution_count": 112,
   "metadata": {},
   "outputs": [
    {
     "data": {
      "text/plain": [
       "array([0.        , 0.11513581, 0.        , 0.        , 0.        ,\n",
       "       0.        , 0.        , 0.        , 0.        , 0.        ,\n",
       "       0.        , 0.        , 0.        , 0.        , 0.        ,\n",
       "       0.02434839, 0.        , 0.        , 0.01461827, 0.        ,\n",
       "       0.        , 0.        , 0.69391652, 0.        , 0.        ,\n",
       "       0.        , 0.        , 0.15198101, 0.        , 0.        ])"
      ]
     },
     "execution_count": 112,
     "metadata": {},
     "output_type": "execute_result"
    }
   ],
   "source": [
    "index = model.feature_importances_\n",
    "index"
   ]
  },
  {
   "cell_type": "code",
   "execution_count": null,
   "metadata": {},
   "outputs": [],
   "source": []
  },
  {
   "cell_type": "code",
   "execution_count": null,
   "metadata": {},
   "outputs": [],
   "source": []
  }
 ],
 "metadata": {
  "kernelspec": {
   "display_name": "Python 3",
   "language": "python",
   "name": "python3"
  },
  "language_info": {
   "codemirror_mode": {
    "name": "ipython",
    "version": 3
   },
   "file_extension": ".py",
   "mimetype": "text/x-python",
   "name": "python",
   "nbconvert_exporter": "python",
   "pygments_lexer": "ipython3",
   "version": "3.7.9"
  }
 },
 "nbformat": 4,
 "nbformat_minor": 4
}
