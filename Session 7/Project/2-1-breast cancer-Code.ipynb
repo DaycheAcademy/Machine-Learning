{
 "cells": [
  {
   "cell_type": "markdown",
   "metadata": {},
   "source": [
    "### Initialization"
   ]
  },
  {
   "cell_type": "code",
   "execution_count": 16,
   "metadata": {},
   "outputs": [],
   "source": [
    "import keras\n",
    "import numpy as np \n",
    "from sklearn.datasets import load_breast_cancer\n",
    "from sklearn.model_selection import train_test_split\n",
    "import matplotlib.pyplot as plt\n",
    "from sklearn.preprocessing import StandardScaler, MinMaxScaler"
   ]
  },
  {
   "cell_type": "markdown",
   "metadata": {},
   "source": [
    "### Data loading "
   ]
  },
  {
   "cell_type": "code",
   "execution_count": 17,
   "metadata": {},
   "outputs": [],
   "source": [
    "cancer = load_breast_cancer()\n",
    "X = cancer.data\n",
    "y = cancer.target\n",
    "label = np.zeros((len(y), 2))\n",
    "label[np.where(y == 1), 1] = 1\n",
    "label[np.where(y == 0), 0] = 1\n",
    "\n",
    "Xtrain, Xtest, y_train, y_test = train_test_split(X, label, test_size = 0.3)\n",
    "scaler_X = StandardScaler().fit(Xtrain)\n",
    "X_train, X_test = scaler_X.transform(Xtrain), scaler_X.transform(Xtest)"
   ]
  },
  {
   "cell_type": "code",
   "execution_count": 42,
   "metadata": {},
   "outputs": [
    {
     "name": "stdout",
     "output_type": "stream",
     "text": [
      "(398, 30)\n",
      "Model: \"sequential_9\"\n",
      "_________________________________________________________________\n",
      "Layer (type)                 Output Shape              Param #   \n",
      "=================================================================\n",
      "dense_18 (Dense)             (None, 10)                310       \n",
      "_________________________________________________________________\n",
      "dense_19 (Dense)             (None, 2)                 22        \n",
      "=================================================================\n",
      "Total params: 332\n",
      "Trainable params: 332\n",
      "Non-trainable params: 0\n",
      "_________________________________________________________________\n"
     ]
    }
   ],
   "source": [
    "print(X_train.shape)\n",
    "model = keras.models.Sequential()\n",
    "model.add(keras.layers.Dense(10, input_shape = (X_train.shape[1], ), activation = 'tanh'))\n",
    "model.add(keras.layers.Dense(2, activation = 'sigmoid'))\n",
    "model.summary()"
   ]
  },
  {
   "cell_type": "markdown",
   "metadata": {},
   "source": [
    "### Initial weights "
   ]
  },
  {
   "cell_type": "code",
   "execution_count": 43,
   "metadata": {},
   "outputs": [
    {
     "name": "stdout",
     "output_type": "stream",
     "text": [
      "(30, 10)\n",
      "(10,)\n"
     ]
    }
   ],
   "source": [
    "# print(model.weights)\n",
    "print(model.weights[0].shape)\n",
    "print(model.weights[1].shape)\n",
    "# for layer in model.layers:\n",
    " #   print(layer)"
   ]
  },
  {
   "cell_type": "markdown",
   "metadata": {},
   "source": [
    "### Compile and train the model "
   ]
  },
  {
   "cell_type": "code",
   "execution_count": 44,
   "metadata": {},
   "outputs": [
    {
     "name": "stdout",
     "output_type": "stream",
     "text": [
      "Epoch 1/100\n",
      "80/80 [==============================] - 0s 4ms/step - loss: 0.5767 - accuracy: 0.7789 - val_loss: 0.4428 - val_accuracy: 0.9181\n",
      "Epoch 2/100\n",
      "80/80 [==============================] - 0s 3ms/step - loss: 0.3449 - accuracy: 0.9397 - val_loss: 0.2968 - val_accuracy: 0.9591\n",
      "Epoch 3/100\n",
      "80/80 [==============================] - 0s 3ms/step - loss: 0.2397 - accuracy: 0.9598 - val_loss: 0.2163 - val_accuracy: 0.9649\n",
      "Epoch 4/100\n",
      "80/80 [==============================] - 0s 3ms/step - loss: 0.1816 - accuracy: 0.9648 - val_loss: 0.1683 - val_accuracy: 0.9766\n",
      "Epoch 5/100\n",
      "80/80 [==============================] - 0s 3ms/step - loss: 0.1464 - accuracy: 0.9673 - val_loss: 0.1369 - val_accuracy: 0.9766\n",
      "Epoch 6/100\n",
      "80/80 [==============================] - 0s 3ms/step - loss: 0.1238 - accuracy: 0.9749 - val_loss: 0.1150 - val_accuracy: 0.9766\n",
      "Epoch 7/100\n",
      "80/80 [==============================] - 0s 3ms/step - loss: 0.1085 - accuracy: 0.9799 - val_loss: 0.1022 - val_accuracy: 0.9825\n",
      "Epoch 8/100\n",
      "80/80 [==============================] - 0s 3ms/step - loss: 0.0975 - accuracy: 0.9799 - val_loss: 0.0907 - val_accuracy: 0.9825\n",
      "Epoch 9/100\n",
      "80/80 [==============================] - 0s 3ms/step - loss: 0.0897 - accuracy: 0.9799 - val_loss: 0.0839 - val_accuracy: 0.9825\n",
      "Epoch 10/100\n",
      "80/80 [==============================] - 0s 4ms/step - loss: 0.0836 - accuracy: 0.9849 - val_loss: 0.0787 - val_accuracy: 0.9825\n",
      "Epoch 11/100\n",
      "80/80 [==============================] - 0s 3ms/step - loss: 0.0787 - accuracy: 0.9874 - val_loss: 0.0745 - val_accuracy: 0.9825\n",
      "Epoch 12/100\n",
      "80/80 [==============================] - 0s 5ms/step - loss: 0.0753 - accuracy: 0.9874 - val_loss: 0.0716 - val_accuracy: 0.9825\n",
      "Epoch 13/100\n",
      "80/80 [==============================] - 0s 3ms/step - loss: 0.0725 - accuracy: 0.9899 - val_loss: 0.0690 - val_accuracy: 0.9825\n",
      "Epoch 14/100\n",
      "80/80 [==============================] - 0s 3ms/step - loss: 0.0700 - accuracy: 0.9899 - val_loss: 0.0662 - val_accuracy: 0.9825\n",
      "Epoch 15/100\n",
      "80/80 [==============================] - 0s 3ms/step - loss: 0.0675 - accuracy: 0.9899 - val_loss: 0.0654 - val_accuracy: 0.9825\n",
      "Epoch 16/100\n",
      "80/80 [==============================] - 0s 3ms/step - loss: 0.0661 - accuracy: 0.9899 - val_loss: 0.0635 - val_accuracy: 0.9825\n",
      "Epoch 17/100\n",
      "80/80 [==============================] - 0s 3ms/step - loss: 0.0645 - accuracy: 0.9874 - val_loss: 0.0626 - val_accuracy: 0.9825\n",
      "Epoch 18/100\n",
      "80/80 [==============================] - 0s 3ms/step - loss: 0.0634 - accuracy: 0.9899 - val_loss: 0.0619 - val_accuracy: 0.9825\n",
      "Epoch 19/100\n",
      "80/80 [==============================] - 0s 3ms/step - loss: 0.0618 - accuracy: 0.9899 - val_loss: 0.0600 - val_accuracy: 0.9825\n",
      "Epoch 20/100\n",
      "80/80 [==============================] - 0s 3ms/step - loss: 0.0607 - accuracy: 0.9899 - val_loss: 0.0604 - val_accuracy: 0.9766\n",
      "Epoch 21/100\n",
      "80/80 [==============================] - 0s 3ms/step - loss: 0.0600 - accuracy: 0.9899 - val_loss: 0.0602 - val_accuracy: 0.9825\n",
      "Epoch 22/100\n",
      "80/80 [==============================] - 0s 6ms/step - loss: 0.0584 - accuracy: 0.9899 - val_loss: 0.0591 - val_accuracy: 0.9825\n",
      "Epoch 23/100\n",
      "80/80 [==============================] - 0s 3ms/step - loss: 0.0575 - accuracy: 0.9899 - val_loss: 0.0585 - val_accuracy: 0.9825\n",
      "Epoch 24/100\n",
      "80/80 [==============================] - 0s 3ms/step - loss: 0.0576 - accuracy: 0.9899 - val_loss: 0.0590 - val_accuracy: 0.9825\n",
      "Epoch 25/100\n",
      "80/80 [==============================] - 0s 4ms/step - loss: 0.0563 - accuracy: 0.9899 - val_loss: 0.0579 - val_accuracy: 0.9825\n",
      "Epoch 26/100\n",
      "80/80 [==============================] - 0s 3ms/step - loss: 0.0560 - accuracy: 0.9899 - val_loss: 0.0585 - val_accuracy: 0.9825\n",
      "Epoch 27/100\n",
      "80/80 [==============================] - 0s 3ms/step - loss: 0.0551 - accuracy: 0.9899 - val_loss: 0.0581 - val_accuracy: 0.9766\n",
      "Epoch 28/100\n",
      "80/80 [==============================] - 0s 3ms/step - loss: 0.0538 - accuracy: 0.9899 - val_loss: 0.0569 - val_accuracy: 0.9825\n",
      "Epoch 29/100\n",
      "80/80 [==============================] - 0s 3ms/step - loss: 0.0541 - accuracy: 0.9899 - val_loss: 0.0573 - val_accuracy: 0.9825\n",
      "Epoch 30/100\n",
      "80/80 [==============================] - 0s 3ms/step - loss: 0.0527 - accuracy: 0.9899 - val_loss: 0.0568 - val_accuracy: 0.9825\n",
      "Epoch 31/100\n",
      "80/80 [==============================] - 0s 3ms/step - loss: 0.0521 - accuracy: 0.9899 - val_loss: 0.0568 - val_accuracy: 0.9825\n",
      "Epoch 32/100\n",
      "80/80 [==============================] - 0s 3ms/step - loss: 0.0510 - accuracy: 0.9899 - val_loss: 0.0570 - val_accuracy: 0.9766\n",
      "Epoch 33/100\n",
      "80/80 [==============================] - 0s 3ms/step - loss: 0.0511 - accuracy: 0.9874 - val_loss: 0.0555 - val_accuracy: 0.9825\n",
      "Epoch 34/100\n",
      "80/80 [==============================] - 0s 3ms/step - loss: 0.0501 - accuracy: 0.9899 - val_loss: 0.0554 - val_accuracy: 0.9825\n",
      "Epoch 35/100\n",
      "80/80 [==============================] - 0s 3ms/step - loss: 0.0495 - accuracy: 0.9874 - val_loss: 0.0563 - val_accuracy: 0.9825\n",
      "Epoch 36/100\n",
      "80/80 [==============================] - 0s 3ms/step - loss: 0.0492 - accuracy: 0.9874 - val_loss: 0.0561 - val_accuracy: 0.9825\n",
      "Epoch 37/100\n",
      "80/80 [==============================] - 0s 3ms/step - loss: 0.0478 - accuracy: 0.9899 - val_loss: 0.0541 - val_accuracy: 0.9825\n",
      "Epoch 38/100\n",
      "80/80 [==============================] - 0s 3ms/step - loss: 0.0478 - accuracy: 0.9899 - val_loss: 0.0534 - val_accuracy: 0.9825\n",
      "Epoch 39/100\n",
      "80/80 [==============================] - 0s 3ms/step - loss: 0.0472 - accuracy: 0.9899 - val_loss: 0.0554 - val_accuracy: 0.9883\n",
      "Epoch 40/100\n",
      "80/80 [==============================] - 0s 3ms/step - loss: 0.0466 - accuracy: 0.9874 - val_loss: 0.0543 - val_accuracy: 0.9825\n",
      "Epoch 41/100\n",
      "80/80 [==============================] - 0s 3ms/step - loss: 0.0465 - accuracy: 0.9899 - val_loss: 0.0546 - val_accuracy: 0.9883\n",
      "Epoch 42/100\n",
      "80/80 [==============================] - 0s 3ms/step - loss: 0.0459 - accuracy: 0.9899 - val_loss: 0.0531 - val_accuracy: 0.9825\n",
      "Epoch 43/100\n",
      "80/80 [==============================] - 0s 3ms/step - loss: 0.0449 - accuracy: 0.9899 - val_loss: 0.0535 - val_accuracy: 0.9825\n",
      "Epoch 44/100\n",
      "80/80 [==============================] - 0s 3ms/step - loss: 0.0446 - accuracy: 0.9899 - val_loss: 0.0533 - val_accuracy: 0.9883\n",
      "Epoch 45/100\n",
      "80/80 [==============================] - 0s 3ms/step - loss: 0.0445 - accuracy: 0.9899 - val_loss: 0.0544 - val_accuracy: 0.9883\n",
      "Epoch 46/100\n",
      "80/80 [==============================] - 0s 3ms/step - loss: 0.0438 - accuracy: 0.9899 - val_loss: 0.0535 - val_accuracy: 0.9883\n",
      "Epoch 47/100\n",
      "80/80 [==============================] - 0s 3ms/step - loss: 0.0433 - accuracy: 0.9899 - val_loss: 0.0509 - val_accuracy: 0.9825\n",
      "Epoch 48/100\n",
      "80/80 [==============================] - 0s 3ms/step - loss: 0.0426 - accuracy: 0.9899 - val_loss: 0.0508 - val_accuracy: 0.9825\n",
      "Epoch 49/100\n",
      "80/80 [==============================] - 0s 3ms/step - loss: 0.0422 - accuracy: 0.9899 - val_loss: 0.0516 - val_accuracy: 0.9883\n",
      "Epoch 50/100\n",
      "80/80 [==============================] - 0s 3ms/step - loss: 0.0423 - accuracy: 0.9899 - val_loss: 0.0497 - val_accuracy: 0.9825\n",
      "Epoch 51/100\n",
      "80/80 [==============================] - 0s 3ms/step - loss: 0.0410 - accuracy: 0.9899 - val_loss: 0.0530 - val_accuracy: 0.9883\n",
      "Epoch 52/100\n",
      "80/80 [==============================] - 0s 3ms/step - loss: 0.0410 - accuracy: 0.9899 - val_loss: 0.0525 - val_accuracy: 0.9883\n",
      "Epoch 53/100\n",
      "80/80 [==============================] - 0s 3ms/step - loss: 0.0409 - accuracy: 0.9899 - val_loss: 0.0534 - val_accuracy: 0.9883\n",
      "Epoch 54/100\n",
      "80/80 [==============================] - 0s 3ms/step - loss: 0.0401 - accuracy: 0.9899 - val_loss: 0.0524 - val_accuracy: 0.9883\n",
      "Epoch 55/100\n",
      "80/80 [==============================] - 0s 3ms/step - loss: 0.0393 - accuracy: 0.9899 - val_loss: 0.0517 - val_accuracy: 0.9883\n",
      "Epoch 56/100\n",
      "80/80 [==============================] - 0s 3ms/step - loss: 0.0390 - accuracy: 0.9899 - val_loss: 0.0508 - val_accuracy: 0.9883\n",
      "Epoch 57/100\n",
      "80/80 [==============================] - 0s 3ms/step - loss: 0.0386 - accuracy: 0.9899 - val_loss: 0.0498 - val_accuracy: 0.9883\n",
      "Epoch 58/100\n",
      "80/80 [==============================] - 0s 3ms/step - loss: 0.0379 - accuracy: 0.9899 - val_loss: 0.0507 - val_accuracy: 0.9883\n"
     ]
    },
    {
     "name": "stdout",
     "output_type": "stream",
     "text": [
      "Epoch 59/100\n",
      "80/80 [==============================] - 0s 3ms/step - loss: 0.0375 - accuracy: 0.9899 - val_loss: 0.0515 - val_accuracy: 0.9883\n",
      "Epoch 60/100\n",
      "80/80 [==============================] - 0s 3ms/step - loss: 0.0374 - accuracy: 0.9899 - val_loss: 0.0487 - val_accuracy: 0.9883\n",
      "Epoch 61/100\n",
      "80/80 [==============================] - 0s 3ms/step - loss: 0.0367 - accuracy: 0.9899 - val_loss: 0.0514 - val_accuracy: 0.9883\n",
      "Epoch 62/100\n",
      "80/80 [==============================] - 0s 3ms/step - loss: 0.0359 - accuracy: 0.9899 - val_loss: 0.0500 - val_accuracy: 0.9883\n",
      "Epoch 63/100\n",
      "80/80 [==============================] - 0s 3ms/step - loss: 0.0357 - accuracy: 0.9899 - val_loss: 0.0507 - val_accuracy: 0.9883\n",
      "Epoch 64/100\n",
      "80/80 [==============================] - 0s 3ms/step - loss: 0.0354 - accuracy: 0.9899 - val_loss: 0.0512 - val_accuracy: 0.9883\n",
      "Epoch 65/100\n",
      "80/80 [==============================] - 0s 3ms/step - loss: 0.0348 - accuracy: 0.9899 - val_loss: 0.0488 - val_accuracy: 0.9883\n",
      "Epoch 66/100\n",
      "80/80 [==============================] - 0s 3ms/step - loss: 0.0345 - accuracy: 0.9899 - val_loss: 0.0497 - val_accuracy: 0.9883\n",
      "Epoch 67/100\n",
      "80/80 [==============================] - 0s 3ms/step - loss: 0.0338 - accuracy: 0.9899 - val_loss: 0.0486 - val_accuracy: 0.9883\n",
      "Epoch 68/100\n",
      "80/80 [==============================] - 0s 3ms/step - loss: 0.0335 - accuracy: 0.9899 - val_loss: 0.0484 - val_accuracy: 0.9883\n",
      "Epoch 69/100\n",
      "80/80 [==============================] - 0s 3ms/step - loss: 0.0328 - accuracy: 0.9899 - val_loss: 0.0482 - val_accuracy: 0.9883\n",
      "Epoch 70/100\n",
      "80/80 [==============================] - 0s 3ms/step - loss: 0.0332 - accuracy: 0.9899 - val_loss: 0.0509 - val_accuracy: 0.9883\n",
      "Epoch 71/100\n",
      "80/80 [==============================] - 0s 3ms/step - loss: 0.0322 - accuracy: 0.9899 - val_loss: 0.0481 - val_accuracy: 0.9883\n",
      "Epoch 72/100\n",
      "80/80 [==============================] - 0s 3ms/step - loss: 0.0319 - accuracy: 0.9899 - val_loss: 0.0493 - val_accuracy: 0.9883\n",
      "Epoch 73/100\n",
      "80/80 [==============================] - 0s 3ms/step - loss: 0.0314 - accuracy: 0.9899 - val_loss: 0.0487 - val_accuracy: 0.9883\n",
      "Epoch 74/100\n",
      "80/80 [==============================] - 0s 3ms/step - loss: 0.0311 - accuracy: 0.9899 - val_loss: 0.0495 - val_accuracy: 0.9883\n",
      "Epoch 75/100\n",
      "80/80 [==============================] - 0s 3ms/step - loss: 0.0308 - accuracy: 0.9899 - val_loss: 0.0478 - val_accuracy: 0.9883\n",
      "Epoch 76/100\n",
      "80/80 [==============================] - 0s 3ms/step - loss: 0.0308 - accuracy: 0.9899 - val_loss: 0.0488 - val_accuracy: 0.9883\n",
      "Epoch 77/100\n",
      "80/80 [==============================] - 0s 3ms/step - loss: 0.0304 - accuracy: 0.9899 - val_loss: 0.0459 - val_accuracy: 0.9883\n",
      "Epoch 78/100\n",
      "80/80 [==============================] - 0s 3ms/step - loss: 0.0308 - accuracy: 0.9899 - val_loss: 0.0470 - val_accuracy: 0.9883\n",
      "Epoch 79/100\n",
      "80/80 [==============================] - 0s 3ms/step - loss: 0.0293 - accuracy: 0.9899 - val_loss: 0.0464 - val_accuracy: 0.9883\n",
      "Epoch 80/100\n",
      "80/80 [==============================] - 0s 3ms/step - loss: 0.0294 - accuracy: 0.9899 - val_loss: 0.0474 - val_accuracy: 0.9883\n",
      "Epoch 81/100\n",
      "80/80 [==============================] - 0s 3ms/step - loss: 0.0289 - accuracy: 0.9899 - val_loss: 0.0478 - val_accuracy: 0.9883\n",
      "Epoch 82/100\n",
      "80/80 [==============================] - 0s 3ms/step - loss: 0.0285 - accuracy: 0.9899 - val_loss: 0.0479 - val_accuracy: 0.9883\n",
      "Epoch 83/100\n",
      "80/80 [==============================] - 0s 3ms/step - loss: 0.0283 - accuracy: 0.9899 - val_loss: 0.0474 - val_accuracy: 0.9883\n",
      "Epoch 84/100\n",
      "80/80 [==============================] - 0s 4ms/step - loss: 0.0280 - accuracy: 0.9899 - val_loss: 0.0479 - val_accuracy: 0.9883\n",
      "Epoch 85/100\n",
      "80/80 [==============================] - 0s 4ms/step - loss: 0.0275 - accuracy: 0.9899 - val_loss: 0.0498 - val_accuracy: 0.9883\n",
      "Epoch 86/100\n",
      "80/80 [==============================] - 0s 4ms/step - loss: 0.0269 - accuracy: 0.9899 - val_loss: 0.0471 - val_accuracy: 0.9883\n",
      "Epoch 87/100\n",
      "80/80 [==============================] - 0s 4ms/step - loss: 0.0269 - accuracy: 0.9899 - val_loss: 0.0470 - val_accuracy: 0.9883\n",
      "Epoch 88/100\n",
      "80/80 [==============================] - 0s 4ms/step - loss: 0.0266 - accuracy: 0.9899 - val_loss: 0.0502 - val_accuracy: 0.9825\n",
      "Epoch 89/100\n",
      "80/80 [==============================] - 0s 4ms/step - loss: 0.0265 - accuracy: 0.9899 - val_loss: 0.0499 - val_accuracy: 0.9883\n",
      "Epoch 90/100\n",
      "80/80 [==============================] - 0s 4ms/step - loss: 0.0260 - accuracy: 0.9899 - val_loss: 0.0486 - val_accuracy: 0.9883\n",
      "Epoch 91/100\n",
      "80/80 [==============================] - 0s 4ms/step - loss: 0.0261 - accuracy: 0.9899 - val_loss: 0.0484 - val_accuracy: 0.9883\n",
      "Epoch 92/100\n",
      "80/80 [==============================] - 0s 4ms/step - loss: 0.0253 - accuracy: 0.9899 - val_loss: 0.0463 - val_accuracy: 0.9883\n",
      "Epoch 93/100\n",
      "80/80 [==============================] - 0s 4ms/step - loss: 0.0250 - accuracy: 0.9899 - val_loss: 0.0454 - val_accuracy: 0.9883\n",
      "Epoch 94/100\n",
      "80/80 [==============================] - 0s 5ms/step - loss: 0.0251 - accuracy: 0.9899 - val_loss: 0.0473 - val_accuracy: 0.9883\n",
      "Epoch 95/100\n",
      "80/80 [==============================] - 0s 5ms/step - loss: 0.0246 - accuracy: 0.9899 - val_loss: 0.0459 - val_accuracy: 0.9883\n",
      "Epoch 96/100\n",
      "80/80 [==============================] - 0s 5ms/step - loss: 0.0242 - accuracy: 0.9899 - val_loss: 0.0467 - val_accuracy: 0.9883\n",
      "Epoch 97/100\n",
      "80/80 [==============================] - 0s 4ms/step - loss: 0.0240 - accuracy: 0.9899 - val_loss: 0.0455 - val_accuracy: 0.9883\n",
      "Epoch 98/100\n",
      "80/80 [==============================] - 0s 4ms/step - loss: 0.0237 - accuracy: 0.9899 - val_loss: 0.0470 - val_accuracy: 0.9883\n",
      "Epoch 99/100\n",
      "80/80 [==============================] - 0s 4ms/step - loss: 0.0236 - accuracy: 0.9899 - val_loss: 0.0460 - val_accuracy: 0.9883\n",
      "Epoch 100/100\n",
      "80/80 [==============================] - 0s 4ms/step - loss: 0.0232 - accuracy: 0.9899 - val_loss: 0.0464 - val_accuracy: 0.9883\n"
     ]
    },
    {
     "data": {
      "text/plain": [
       "<tensorflow.python.keras.callbacks.History at 0x1f206d76088>"
      ]
     },
     "execution_count": 44,
     "metadata": {},
     "output_type": "execute_result"
    }
   ],
   "source": [
    "model.compile(loss='binary_crossentropy', optimizer='adam', metrics = 'accuracy')\n",
    "model.fit(X_train, y_train, validation_data = (X_test, y_test), batch_size = 5,  epochs = 100)"
   ]
  },
  {
   "cell_type": "code",
   "execution_count": 45,
   "metadata": {},
   "outputs": [],
   "source": [
    "y_pre = model.predict(X_test)\n",
    "y_pre = np.argmax(y_pre, axis = 1)"
   ]
  },
  {
   "cell_type": "code",
   "execution_count": 46,
   "metadata": {},
   "outputs": [
    {
     "data": {
      "text/plain": [
       "array([[ 57,   0],\n",
       "       [  2, 112]], dtype=int64)"
      ]
     },
     "execution_count": 46,
     "metadata": {},
     "output_type": "execute_result"
    }
   ],
   "source": [
    "from sklearn.metrics import confusion_matrix\n",
    "confusion_matrix(y_pre, np.argmax(y_test, axis = 1)).T"
   ]
  },
  {
   "cell_type": "code",
   "execution_count": null,
   "metadata": {},
   "outputs": [],
   "source": []
  }
 ],
 "metadata": {
  "kernelspec": {
   "display_name": "Python 3",
   "language": "python",
   "name": "python3"
  },
  "language_info": {
   "codemirror_mode": {
    "name": "ipython",
    "version": 3
   },
   "file_extension": ".py",
   "mimetype": "text/x-python",
   "name": "python",
   "nbconvert_exporter": "python",
   "pygments_lexer": "ipython3",
   "version": "3.7.9"
  }
 },
 "nbformat": 4,
 "nbformat_minor": 4
}
