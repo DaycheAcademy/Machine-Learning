{
 "cells": [
  {
   "cell_type": "markdown",
   "metadata": {},
   "source": [
    "## Initialization"
   ]
  },
  {
   "cell_type": "code",
   "execution_count": 13,
   "metadata": {},
   "outputs": [],
   "source": [
    "import pandas as pd\n",
    "import numpy as np\n",
    "import random\n",
    "import matplotlib.pyplot as plt\n",
    "from sklearn.preprocessing import StandardScaler, MinMaxScaler\n",
    "from sklearn.utils import shuffle\n",
    "from collections import deque\n",
    "from sklearn.model_selection import train_test_split\n",
    "import keras"
   ]
  },
  {
   "cell_type": "markdown",
   "metadata": {},
   "source": [
    "### Data loading and prepration"
   ]
  },
  {
   "cell_type": "code",
   "execution_count": 14,
   "metadata": {},
   "outputs": [],
   "source": [
    "data = pd.read_csv('.\\Dataset.csv')\n",
    "data.dropna(inplace=True)\n",
    "X = data.drop(columns=['MPG'], inplace=False).values\n",
    "y = data['MPG'].values\n",
    "X_train, X_test, y_train, y_test = train_test_split(X, y, test_size = 0.3)\n",
    "scaler_X = MinMaxScaler().fit(X_train)\n",
    "scaler_y = MinMaxScaler().fit(y_train.reshape(-1, 1))\n",
    "X_train, X_test = scaler_X.transform(X_train), scaler_X.transform(X_test)\n",
    "y_train, y_test = scaler_y.transform(y_train.reshape(-1, 1)), scaler_y.transform(y_test.reshape(-1, 1))"
   ]
  },
  {
   "cell_type": "markdown",
   "metadata": {},
   "source": [
    "### Modeling "
   ]
  },
  {
   "cell_type": "code",
   "execution_count": 15,
   "metadata": {},
   "outputs": [
    {
     "name": "stdout",
     "output_type": "stream",
     "text": [
      "Model: \"sequential_1\"\n",
      "_________________________________________________________________\n",
      "Layer (type)                 Output Shape              Param #   \n",
      "=================================================================\n",
      "dense_2 (Dense)              (None, 25)                200       \n",
      "_________________________________________________________________\n",
      "dense_3 (Dense)              (None, 1)                 26        \n",
      "=================================================================\n",
      "Total params: 226\n",
      "Trainable params: 226\n",
      "Non-trainable params: 0\n",
      "_________________________________________________________________\n"
     ]
    }
   ],
   "source": [
    "model = keras.models.Sequential()\n",
    "model.add(keras.layers.Dense(25, input_shape = (X_train.shape[1], ), activation = 'sigmoid'))\n",
    "model.add(keras.layers.Dense(1, activation = 'linear'))\n",
    "model.summary()"
   ]
  },
  {
   "cell_type": "code",
   "execution_count": 16,
   "metadata": {},
   "outputs": [
    {
     "name": "stdout",
     "output_type": "stream",
     "text": [
      "Epoch 1/100\n",
      "9/9 [==============================] - 0s 12ms/step - loss: 0.6919 - mse: 0.6919 - val_loss: 0.4352 - val_mse: 0.4352\n",
      "Epoch 2/100\n",
      "9/9 [==============================] - 0s 6ms/step - loss: 0.2367 - mse: 0.2367 - val_loss: 0.1736 - val_mse: 0.1736\n",
      "Epoch 3/100\n",
      "9/9 [==============================] - 0s 5ms/step - loss: 0.0938 - mse: 0.0938 - val_loss: 0.0422 - val_mse: 0.0422\n",
      "Epoch 4/100\n",
      "9/9 [==============================] - 0s 5ms/step - loss: 0.0430 - mse: 0.0430 - val_loss: 0.0457 - val_mse: 0.0457\n",
      "Epoch 5/100\n",
      "9/9 [==============================] - 0s 5ms/step - loss: 0.0227 - mse: 0.0227 - val_loss: 0.0221 - val_mse: 0.0221\n",
      "Epoch 6/100\n",
      "9/9 [==============================] - 0s 5ms/step - loss: 0.0156 - mse: 0.0156 - val_loss: 0.0136 - val_mse: 0.0136\n",
      "Epoch 7/100\n",
      "9/9 [==============================] - 0s 5ms/step - loss: 0.0112 - mse: 0.0112 - val_loss: 0.0167 - val_mse: 0.0167\n",
      "Epoch 8/100\n",
      "9/9 [==============================] - 0s 5ms/step - loss: 0.0113 - mse: 0.0113 - val_loss: 0.0134 - val_mse: 0.0134\n",
      "Epoch 9/100\n",
      "9/9 [==============================] - 0s 6ms/step - loss: 0.0114 - mse: 0.0114 - val_loss: 0.0128 - val_mse: 0.0128\n",
      "Epoch 10/100\n",
      "9/9 [==============================] - 0s 5ms/step - loss: 0.0104 - mse: 0.0104 - val_loss: 0.0136 - val_mse: 0.0136\n",
      "Epoch 11/100\n",
      "9/9 [==============================] - 0s 5ms/step - loss: 0.0115 - mse: 0.0115 - val_loss: 0.0155 - val_mse: 0.0155\n",
      "Epoch 12/100\n",
      "9/9 [==============================] - 0s 4ms/step - loss: 0.0107 - mse: 0.0107 - val_loss: 0.0132 - val_mse: 0.0132\n",
      "Epoch 13/100\n",
      "9/9 [==============================] - 0s 5ms/step - loss: 0.0115 - mse: 0.0115 - val_loss: 0.0132 - val_mse: 0.0132\n",
      "Epoch 14/100\n",
      "9/9 [==============================] - 0s 5ms/step - loss: 0.0121 - mse: 0.0121 - val_loss: 0.0151 - val_mse: 0.0151\n",
      "Epoch 15/100\n",
      "9/9 [==============================] - 0s 6ms/step - loss: 0.0107 - mse: 0.0107 - val_loss: 0.0147 - val_mse: 0.0147\n",
      "Epoch 16/100\n",
      "9/9 [==============================] - 0s 6ms/step - loss: 0.0109 - mse: 0.0109 - val_loss: 0.0126 - val_mse: 0.0126\n",
      "Epoch 17/100\n",
      "9/9 [==============================] - 0s 6ms/step - loss: 0.0100 - mse: 0.0100 - val_loss: 0.0119 - val_mse: 0.0119\n",
      "Epoch 18/100\n",
      "9/9 [==============================] - 0s 5ms/step - loss: 0.0099 - mse: 0.0099 - val_loss: 0.0131 - val_mse: 0.0131\n",
      "Epoch 19/100\n",
      "9/9 [==============================] - 0s 5ms/step - loss: 0.0110 - mse: 0.0110 - val_loss: 0.0171 - val_mse: 0.0171\n",
      "Epoch 20/100\n",
      "9/9 [==============================] - 0s 7ms/step - loss: 0.0121 - mse: 0.0121 - val_loss: 0.0141 - val_mse: 0.0141\n",
      "Epoch 21/100\n",
      "9/9 [==============================] - 0s 4ms/step - loss: 0.0113 - mse: 0.0113 - val_loss: 0.0125 - val_mse: 0.0125\n",
      "Epoch 22/100\n",
      "9/9 [==============================] - 0s 5ms/step - loss: 0.0101 - mse: 0.0101 - val_loss: 0.0119 - val_mse: 0.0119\n",
      "Epoch 23/100\n",
      "9/9 [==============================] - 0s 4ms/step - loss: 0.0096 - mse: 0.0096 - val_loss: 0.0115 - val_mse: 0.0115\n",
      "Epoch 24/100\n",
      "9/9 [==============================] - 0s 6ms/step - loss: 0.0102 - mse: 0.0102 - val_loss: 0.0149 - val_mse: 0.0149\n",
      "Epoch 25/100\n",
      "9/9 [==============================] - 0s 5ms/step - loss: 0.0126 - mse: 0.0126 - val_loss: 0.0146 - val_mse: 0.0146\n",
      "Epoch 26/100\n",
      "9/9 [==============================] - 0s 5ms/step - loss: 0.0119 - mse: 0.0119 - val_loss: 0.0124 - val_mse: 0.0124\n",
      "Epoch 27/100\n",
      "9/9 [==============================] - 0s 5ms/step - loss: 0.0093 - mse: 0.0093 - val_loss: 0.0115 - val_mse: 0.0115\n",
      "Epoch 28/100\n",
      "9/9 [==============================] - 0s 6ms/step - loss: 0.0099 - mse: 0.0099 - val_loss: 0.0128 - val_mse: 0.0128\n",
      "Epoch 29/100\n",
      "9/9 [==============================] - 0s 5ms/step - loss: 0.0094 - mse: 0.0094 - val_loss: 0.0112 - val_mse: 0.0112\n",
      "Epoch 30/100\n",
      "9/9 [==============================] - 0s 5ms/step - loss: 0.0099 - mse: 0.0099 - val_loss: 0.0115 - val_mse: 0.0115\n",
      "Epoch 31/100\n",
      "9/9 [==============================] - 0s 5ms/step - loss: 0.0094 - mse: 0.0094 - val_loss: 0.0124 - val_mse: 0.0124\n",
      "Epoch 32/100\n",
      "9/9 [==============================] - 0s 5ms/step - loss: 0.0104 - mse: 0.0104 - val_loss: 0.0156 - val_mse: 0.0156\n",
      "Epoch 33/100\n",
      "9/9 [==============================] - 0s 4ms/step - loss: 0.0169 - mse: 0.0169 - val_loss: 0.0158 - val_mse: 0.0158\n",
      "Epoch 34/100\n",
      "9/9 [==============================] - 0s 5ms/step - loss: 0.0115 - mse: 0.0115 - val_loss: 0.0190 - val_mse: 0.0190\n",
      "Epoch 35/100\n",
      "9/9 [==============================] - 0s 6ms/step - loss: 0.0137 - mse: 0.0137 - val_loss: 0.0139 - val_mse: 0.0139\n",
      "Epoch 36/100\n",
      "9/9 [==============================] - 0s 6ms/step - loss: 0.0101 - mse: 0.0101 - val_loss: 0.0111 - val_mse: 0.0111\n",
      "Epoch 37/100\n",
      "9/9 [==============================] - 0s 5ms/step - loss: 0.0098 - mse: 0.0098 - val_loss: 0.0115 - val_mse: 0.0115\n",
      "Epoch 38/100\n",
      "9/9 [==============================] - 0s 6ms/step - loss: 0.0113 - mse: 0.0113 - val_loss: 0.0134 - val_mse: 0.0134\n",
      "Epoch 39/100\n",
      "9/9 [==============================] - 0s 4ms/step - loss: 0.0098 - mse: 0.0098 - val_loss: 0.0113 - val_mse: 0.0113\n",
      "Epoch 40/100\n",
      "9/9 [==============================] - 0s 5ms/step - loss: 0.0089 - mse: 0.0089 - val_loss: 0.0108 - val_mse: 0.0108\n",
      "Epoch 41/100\n",
      "9/9 [==============================] - 0s 5ms/step - loss: 0.0092 - mse: 0.0092 - val_loss: 0.0106 - val_mse: 0.0106\n",
      "Epoch 42/100\n",
      "9/9 [==============================] - 0s 4ms/step - loss: 0.0089 - mse: 0.0089 - val_loss: 0.0107 - val_mse: 0.0107\n",
      "Epoch 43/100\n",
      "9/9 [==============================] - 0s 4ms/step - loss: 0.0089 - mse: 0.0089 - val_loss: 0.0125 - val_mse: 0.0125\n",
      "Epoch 44/100\n",
      "9/9 [==============================] - 0s 5ms/step - loss: 0.0112 - mse: 0.0112 - val_loss: 0.0161 - val_mse: 0.0161\n",
      "Epoch 45/100\n",
      "9/9 [==============================] - 0s 5ms/step - loss: 0.0127 - mse: 0.0127 - val_loss: 0.0120 - val_mse: 0.0120\n",
      "Epoch 46/100\n",
      "9/9 [==============================] - 0s 5ms/step - loss: 0.0126 - mse: 0.0126 - val_loss: 0.0219 - val_mse: 0.0219\n",
      "Epoch 47/100\n",
      "9/9 [==============================] - 0s 5ms/step - loss: 0.0124 - mse: 0.0124 - val_loss: 0.0176 - val_mse: 0.0176\n",
      "Epoch 48/100\n",
      "9/9 [==============================] - 0s 4ms/step - loss: 0.0148 - mse: 0.0148 - val_loss: 0.0144 - val_mse: 0.0144\n",
      "Epoch 49/100\n",
      "9/9 [==============================] - 0s 5ms/step - loss: 0.0135 - mse: 0.0135 - val_loss: 0.0128 - val_mse: 0.0128\n",
      "Epoch 50/100\n",
      "9/9 [==============================] - 0s 4ms/step - loss: 0.0126 - mse: 0.0126 - val_loss: 0.0322 - val_mse: 0.0322\n",
      "Epoch 51/100\n",
      "9/9 [==============================] - 0s 5ms/step - loss: 0.0169 - mse: 0.0169 - val_loss: 0.0103 - val_mse: 0.0103\n",
      "Epoch 52/100\n",
      "9/9 [==============================] - 0s 6ms/step - loss: 0.0114 - mse: 0.0114 - val_loss: 0.0126 - val_mse: 0.0126\n",
      "Epoch 53/100\n",
      "9/9 [==============================] - 0s 5ms/step - loss: 0.0097 - mse: 0.0097 - val_loss: 0.0105 - val_mse: 0.0105\n",
      "Epoch 54/100\n",
      "9/9 [==============================] - 0s 6ms/step - loss: 0.0086 - mse: 0.0086 - val_loss: 0.0104 - val_mse: 0.0104\n",
      "Epoch 55/100\n",
      "9/9 [==============================] - 0s 4ms/step - loss: 0.0087 - mse: 0.0087 - val_loss: 0.0101 - val_mse: 0.0101\n",
      "Epoch 56/100\n",
      "9/9 [==============================] - 0s 5ms/step - loss: 0.0087 - mse: 0.0087 - val_loss: 0.0124 - val_mse: 0.0124\n",
      "Epoch 57/100\n",
      "9/9 [==============================] - 0s 4ms/step - loss: 0.0097 - mse: 0.0097 - val_loss: 0.0125 - val_mse: 0.0125\n",
      "Epoch 58/100\n",
      "9/9 [==============================] - 0s 6ms/step - loss: 0.0106 - mse: 0.0106 - val_loss: 0.0102 - val_mse: 0.0102\n",
      "Epoch 59/100\n",
      "9/9 [==============================] - 0s 5ms/step - loss: 0.0109 - mse: 0.0109 - val_loss: 0.0152 - val_mse: 0.0152\n",
      "Epoch 60/100\n",
      "9/9 [==============================] - 0s 6ms/step - loss: 0.0096 - mse: 0.0096 - val_loss: 0.0100 - val_mse: 0.0100\n",
      "Epoch 61/100\n",
      "9/9 [==============================] - 0s 6ms/step - loss: 0.0086 - mse: 0.0086 - val_loss: 0.0104 - val_mse: 0.0104\n",
      "Epoch 62/100\n",
      "9/9 [==============================] - 0s 5ms/step - loss: 0.0087 - mse: 0.0087 - val_loss: 0.0103 - val_mse: 0.0103\n",
      "Epoch 63/100\n",
      "9/9 [==============================] - 0s 6ms/step - loss: 0.0089 - mse: 0.0089 - val_loss: 0.0107 - val_mse: 0.0107\n",
      "Epoch 64/100\n"
     ]
    },
    {
     "name": "stdout",
     "output_type": "stream",
     "text": [
      "9/9 [==============================] - 0s 6ms/step - loss: 0.0087 - mse: 0.0087 - val_loss: 0.0099 - val_mse: 0.0099\n",
      "Epoch 65/100\n",
      "9/9 [==============================] - 0s 5ms/step - loss: 0.0086 - mse: 0.0086 - val_loss: 0.0098 - val_mse: 0.0098\n",
      "Epoch 66/100\n",
      "9/9 [==============================] - 0s 6ms/step - loss: 0.0086 - mse: 0.0086 - val_loss: 0.0111 - val_mse: 0.0111\n",
      "Epoch 67/100\n",
      "9/9 [==============================] - 0s 5ms/step - loss: 0.0104 - mse: 0.0104 - val_loss: 0.0098 - val_mse: 0.0098\n",
      "Epoch 68/100\n",
      "9/9 [==============================] - 0s 6ms/step - loss: 0.0100 - mse: 0.0100 - val_loss: 0.0113 - val_mse: 0.0113\n",
      "Epoch 69/100\n",
      "9/9 [==============================] - 0s 5ms/step - loss: 0.0089 - mse: 0.0089 - val_loss: 0.0098 - val_mse: 0.0098\n",
      "Epoch 70/100\n",
      "9/9 [==============================] - 0s 4ms/step - loss: 0.0088 - mse: 0.0088 - val_loss: 0.0114 - val_mse: 0.0114\n",
      "Epoch 71/100\n",
      "9/9 [==============================] - 0s 4ms/step - loss: 0.0091 - mse: 0.0091 - val_loss: 0.0097 - val_mse: 0.0097\n",
      "Epoch 72/100\n",
      "9/9 [==============================] - 0s 6ms/step - loss: 0.0089 - mse: 0.0089 - val_loss: 0.0114 - val_mse: 0.0114\n",
      "Epoch 73/100\n",
      "9/9 [==============================] - 0s 5ms/step - loss: 0.0090 - mse: 0.0090 - val_loss: 0.0100 - val_mse: 0.0100\n",
      "Epoch 74/100\n",
      "9/9 [==============================] - 0s 6ms/step - loss: 0.0097 - mse: 0.0097 - val_loss: 0.0122 - val_mse: 0.0122\n",
      "Epoch 75/100\n",
      "9/9 [==============================] - 0s 5ms/step - loss: 0.0089 - mse: 0.0089 - val_loss: 0.0098 - val_mse: 0.0098\n",
      "Epoch 76/100\n",
      "9/9 [==============================] - 0s 4ms/step - loss: 0.0082 - mse: 0.0082 - val_loss: 0.0116 - val_mse: 0.0116\n",
      "Epoch 77/100\n",
      "9/9 [==============================] - 0s 5ms/step - loss: 0.0088 - mse: 0.0088 - val_loss: 0.0094 - val_mse: 0.0094\n",
      "Epoch 78/100\n",
      "9/9 [==============================] - ETA: 0s - loss: 0.0082 - mse: 0.008 - 0s 4ms/step - loss: 0.0097 - mse: 0.0097 - val_loss: 0.0120 - val_mse: 0.0120\n",
      "Epoch 79/100\n",
      "9/9 [==============================] - 0s 5ms/step - loss: 0.0103 - mse: 0.0103 - val_loss: 0.0125 - val_mse: 0.0125\n",
      "Epoch 80/100\n",
      "9/9 [==============================] - 0s 6ms/step - loss: 0.0109 - mse: 0.0109 - val_loss: 0.0098 - val_mse: 0.0098\n",
      "Epoch 81/100\n",
      "9/9 [==============================] - 0s 5ms/step - loss: 0.0098 - mse: 0.0098 - val_loss: 0.0126 - val_mse: 0.0126\n",
      "Epoch 82/100\n",
      "9/9 [==============================] - 0s 6ms/step - loss: 0.0092 - mse: 0.0092 - val_loss: 0.0094 - val_mse: 0.0094\n",
      "Epoch 83/100\n",
      "9/9 [==============================] - 0s 5ms/step - loss: 0.0093 - mse: 0.0093 - val_loss: 0.0096 - val_mse: 0.0096\n",
      "Epoch 84/100\n",
      "9/9 [==============================] - 0s 4ms/step - loss: 0.0082 - mse: 0.0082 - val_loss: 0.0095 - val_mse: 0.0095\n",
      "Epoch 85/100\n",
      "9/9 [==============================] - 0s 5ms/step - loss: 0.0092 - mse: 0.0092 - val_loss: 0.0092 - val_mse: 0.0092\n",
      "Epoch 86/100\n",
      "9/9 [==============================] - 0s 4ms/step - loss: 0.0085 - mse: 0.0085 - val_loss: 0.0092 - val_mse: 0.0092\n",
      "Epoch 87/100\n",
      "9/9 [==============================] - 0s 4ms/step - loss: 0.0081 - mse: 0.0081 - val_loss: 0.0092 - val_mse: 0.0092\n",
      "Epoch 88/100\n",
      "9/9 [==============================] - 0s 4ms/step - loss: 0.0080 - mse: 0.0080 - val_loss: 0.0091 - val_mse: 0.0091\n",
      "Epoch 89/100\n",
      "9/9 [==============================] - 0s 4ms/step - loss: 0.0085 - mse: 0.0085 - val_loss: 0.0098 - val_mse: 0.0098\n",
      "Epoch 90/100\n",
      "9/9 [==============================] - 0s 5ms/step - loss: 0.0097 - mse: 0.0097 - val_loss: 0.0116 - val_mse: 0.0116\n",
      "Epoch 91/100\n",
      "9/9 [==============================] - 0s 5ms/step - loss: 0.0100 - mse: 0.0100 - val_loss: 0.0090 - val_mse: 0.0090\n",
      "Epoch 92/100\n",
      "9/9 [==============================] - 0s 4ms/step - loss: 0.0089 - mse: 0.0089 - val_loss: 0.0089 - val_mse: 0.0089\n",
      "Epoch 93/100\n",
      "9/9 [==============================] - 0s 5ms/step - loss: 0.0092 - mse: 0.0092 - val_loss: 0.0091 - val_mse: 0.0091\n",
      "Epoch 94/100\n",
      "9/9 [==============================] - 0s 4ms/step - loss: 0.0081 - mse: 0.0081 - val_loss: 0.0090 - val_mse: 0.0090\n",
      "Epoch 95/100\n",
      "9/9 [==============================] - 0s 6ms/step - loss: 0.0080 - mse: 0.0080 - val_loss: 0.0114 - val_mse: 0.0114\n",
      "Epoch 96/100\n",
      "9/9 [==============================] - 0s 7ms/step - loss: 0.0105 - mse: 0.0105 - val_loss: 0.0091 - val_mse: 0.0091\n",
      "Epoch 97/100\n",
      "9/9 [==============================] - 0s 8ms/step - loss: 0.0088 - mse: 0.0088 - val_loss: 0.0095 - val_mse: 0.0095\n",
      "Epoch 98/100\n",
      "9/9 [==============================] - 0s 7ms/step - loss: 0.0085 - mse: 0.0085 - val_loss: 0.0088 - val_mse: 0.0088\n",
      "Epoch 99/100\n",
      "9/9 [==============================] - 0s 4ms/step - loss: 0.0080 - mse: 0.0080 - val_loss: 0.0091 - val_mse: 0.0091\n",
      "Epoch 100/100\n",
      "9/9 [==============================] - 0s 5ms/step - loss: 0.0085 - mse: 0.0085 - val_loss: 0.0095 - val_mse: 0.0095\n"
     ]
    },
    {
     "data": {
      "text/plain": [
       "<tensorflow.python.keras.callbacks.History at 0x1fd6926ae88>"
      ]
     },
     "execution_count": 16,
     "metadata": {},
     "output_type": "execute_result"
    }
   ],
   "source": [
    "opt = keras.optimizers.SGD(learning_rate = 0.1, momentum=0.9)\n",
    "model.compile(loss='mse', optimizer = opt, metrics = 'mse')\n",
    "model.fit(X_train, y_train, validation_data = (X_test, y_test), epochs = 100)"
   ]
  },
  {
   "cell_type": "code",
   "execution_count": 17,
   "metadata": {},
   "outputs": [
    {
     "data": {
      "text/plain": [
       "[<matplotlib.lines.Line2D at 0x1fd6924c348>]"
      ]
     },
     "execution_count": 17,
     "metadata": {},
     "output_type": "execute_result"
    },
    {
     "data": {
      "image/png": "[encoded data removed]",
      "text/plain": [
       "<Figure size 432x288 with 1 Axes>"
      ]
     },
     "metadata": {
      "needs_background": "light"
     },
     "output_type": "display_data"
    }
   ],
   "source": [
    "y_pre = model.predict(X_test)\n",
    "plt.plot(y_pre, 'b')\n",
    "plt.plot(y_test, 'r')"
   ]
  },
  {
   "cell_type": "code",
   "execution_count": null,
   "metadata": {},
   "outputs": [],
   "source": []
  }
 ],
 "metadata": {
  "kernelspec": {
   "display_name": "Python 3",
   "language": "python",
   "name": "python3"
  },
  "language_info": {
   "codemirror_mode": {
    "name": "ipython",
    "version": 3
   },
   "file_extension": ".py",
   "mimetype": "text/x-python",
   "name": "python",
   "nbconvert_exporter": "python",
   "pygments_lexer": "ipython3",
   "version": "3.7.9"
  }
 },
 "nbformat": 4,
 "nbformat_minor": 4
}
