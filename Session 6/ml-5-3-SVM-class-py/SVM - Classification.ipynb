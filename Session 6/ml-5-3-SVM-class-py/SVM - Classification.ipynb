{
 "cells": [
  {
   "cell_type": "markdown",
   "metadata": {},
   "source": [
    "### Initialization"
   ]
  },
  {
   "cell_type": "code",
   "execution_count": 23,
   "metadata": {},
   "outputs": [],
   "source": [
    "import numpy as np\n",
    "import math\n",
    "from sklearn.svm import SVC\n",
    "import matplotlib.pyplot as plt\n",
    "from sklearn.metrics import confusion_matrix"
   ]
  },
  {
   "cell_type": "markdown",
   "metadata": {},
   "source": [
    "### Data Generation "
   ]
  },
  {
   "cell_type": "code",
   "execution_count": 32,
   "metadata": {},
   "outputs": [
    {
     "name": "stdout",
     "output_type": "stream",
     "text": [
      "[1.97227706 2.02505839 1.        ]\n",
      "[3.94791075 3.97267458 1.        ]\n"
     ]
    }
   ],
   "source": [
    "np.random.seed(200)\n",
    "N = 1000\n",
    "X1 = np.hstack((2 + np.random.randn(N, 2), (np.ones((N, 1)))))\n",
    "X2 = np.hstack((4 + np.random.randn(N, 2), (np.ones((N, 1)))))\n",
    "X = np.vstack((X1, X2))\n",
    "y1, y2 = np.ones((N, 1)), -np.ones((N, 1))\n",
    "y_train = np.vstack((y1, y2))\n",
    "data_matrix = np.hstack((X, y_train))\n",
    "X_test_1 = np.hstack((2 + np.random.randn(N, 2), (np.ones((N, 1)))))\n",
    "X_test_2 = np.hstack((4 + np.random.randn(N, 2), (np.ones((N, 1)))))\n",
    "X_test = np.vstack((X_test_1, X_test_2))\n",
    "y1, y2 = np.ones((N, 1)), -np.ones((N, 1))\n",
    "y_test = np.vstack((y1, y2))\n",
    "print(np.mean(X1, axis=0))\n",
    "print(np.mean(X2, axis=0))"
   ]
  },
  {
   "cell_type": "markdown",
   "metadata": {},
   "source": [
    "#### Linear Kernel"
   ]
  },
  {
   "cell_type": "code",
   "execution_count": 35,
   "metadata": {},
   "outputs": [
    {
     "name": "stderr",
     "output_type": "stream",
     "text": [
      "C:\\Users\\Lenovo\\anaconda3\\lib\\site-packages\\sklearn\\utils\\validation.py:72: DataConversionWarning: A column-vector y was passed when a 1d array was expected. Please change the shape of y to (n_samples, ), for example using ravel().\n",
      "  return f(**kwargs)\n"
     ]
    },
    {
     "data": {
      "text/plain": [
       "array([[0.934, 0.066],\n",
       "       [0.073, 0.927]])"
      ]
     },
     "execution_count": 35,
     "metadata": {},
     "output_type": "execute_result"
    }
   ],
   "source": [
    "model = SVC(kernel='linear', C = 10)\n",
    "model.fit(X, y_train)\n",
    "y_pre_te = model.predict(X_test)\n",
    "2*confusion_matrix(y_pre_te, y_test).T/len(X_test)"
   ]
  },
  {
   "cell_type": "markdown",
   "metadata": {},
   "source": [
    "### RBF kernel"
   ]
  },
  {
   "cell_type": "code",
   "execution_count": 34,
   "metadata": {},
   "outputs": [
    {
     "name": "stderr",
     "output_type": "stream",
     "text": [
      "C:\\Users\\Lenovo\\anaconda3\\lib\\site-packages\\sklearn\\utils\\validation.py:72: DataConversionWarning: A column-vector y was passed when a 1d array was expected. Please change the shape of y to (n_samples, ), for example using ravel().\n",
      "  return f(**kwargs)\n"
     ]
    },
    {
     "data": {
      "text/plain": [
       "array([[0.933, 0.067],\n",
       "       [0.068, 0.932]])"
      ]
     },
     "execution_count": 34,
     "metadata": {},
     "output_type": "execute_result"
    }
   ],
   "source": [
    "model = SVC(kernel='rbf')\n",
    "model.fit(X, y_train)\n",
    "y_pre_te = model.predict(X_test)\n",
    "2*confusion_matrix(y_pre_te, y_test).T/len(X_test)"
   ]
  },
  {
   "cell_type": "code",
   "execution_count": null,
   "metadata": {},
   "outputs": [],
   "source": []
  }
 ],
 "metadata": {
  "kernelspec": {
   "display_name": "Python 3",
   "language": "python",
   "name": "python3"
  },
  "language_info": {
   "codemirror_mode": {
    "name": "ipython",
    "version": 3
   },
   "file_extension": ".py",
   "mimetype": "text/x-python",
   "name": "python",
   "nbconvert_exporter": "python",
   "pygments_lexer": "ipython3",
   "version": "3.7.9"
  }
 },
 "nbformat": 4,
 "nbformat_minor": 4
}
