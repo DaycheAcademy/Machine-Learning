{
 "cells": [
  {
   "cell_type": "markdown",
   "metadata": {},
   "source": [
    "### Initialization"
   ]
  },
  {
   "cell_type": "code",
   "execution_count": 93,
   "metadata": {},
   "outputs": [],
   "source": [
    "from sklearn.datasets import load_breast_cancer\n",
    "import numpy as np \n",
    "import pandas as pd \n",
    "import matplotlib.pyplot as plt\n",
    "from sklearn.cluster import KMeans, AgglomerativeClustering, DBSCAN\n",
    "from sklearn.model_selection import train_test_split\n",
    "from sklearn.preprocessing import StandardScaler\n",
    "from sklearn.metrics import confusion_matrix"
   ]
  },
  {
   "cell_type": "markdown",
   "metadata": {},
   "source": [
    "### Load dataset"
   ]
  },
  {
   "cell_type": "code",
   "execution_count": 94,
   "metadata": {},
   "outputs": [],
   "source": [
    "data = load_breast_cancer()\n",
    "X = data.data\n",
    "y = data.target"
   ]
  },
  {
   "cell_type": "markdown",
   "metadata": {},
   "source": [
    "### Test train split "
   ]
  },
  {
   "cell_type": "code",
   "execution_count": 100,
   "metadata": {},
   "outputs": [
    {
     "data": {
      "text/plain": [
       "(455, 30)"
      ]
     },
     "execution_count": 100,
     "metadata": {},
     "output_type": "execute_result"
    }
   ],
   "source": [
    "X_train, X_test, y_train, y_test = train_test_split(X, y, test_size=0.2)\n",
    "scaler = StandardScaler().fit(X_train)\n",
    "X_train, X_test = scaler.transform(X_train), scaler.transform(X_test)\n",
    "X_train.shape"
   ]
  },
  {
   "cell_type": "markdown",
   "metadata": {},
   "source": [
    "### Modeling - Kmeans clustering"
   ]
  },
  {
   "cell_type": "code",
   "execution_count": 99,
   "metadata": {},
   "outputs": [
    {
     "data": {
      "text/plain": [
       "array([[ 0.96561598,  0.48956059,  1.00024828,  0.96844326,  0.59587395,\n",
       "         1.05007832,  1.14661797,  1.15584818,  0.61196117,  0.31444713,\n",
       "         0.91264512,  0.03707434,  0.93068619,  0.9598984 ,  0.04656472,\n",
       "         0.78698764,  0.7341398 ,  0.82449216,  0.13678101,  0.55719624,\n",
       "         1.03272515,  0.50443574,  1.06387095,  1.00935441,  0.61592074,\n",
       "         0.99689455,  1.06051001,  1.14875059,  0.61000818,  0.69598195],\n",
       "       [-0.47963162, -0.2431699 , -0.49683385, -0.48103596, -0.29597686,\n",
       "        -0.52158496, -0.56953721, -0.57412196, -0.30396755, -0.1561892 ,\n",
       "        -0.45332044, -0.01841521, -0.46228163, -0.47679164, -0.02312919,\n",
       "        -0.39090505, -0.36465497, -0.40953393, -0.06794057, -0.27676524,\n",
       "        -0.51296545, -0.25055854, -0.5284359 , -0.50135696, -0.30593431,\n",
       "        -0.49516802, -0.52676648, -0.57059651, -0.30299748, -0.34570156]])"
      ]
     },
     "execution_count": 99,
     "metadata": {},
     "output_type": "execute_result"
    }
   ],
   "source": [
    "model = KMeans(n_clusters = 2)\n",
    "model.fit(X_train)\n",
    "model.cluster_centers_"
   ]
  },
  {
   "cell_type": "markdown",
   "metadata": {},
   "source": [
    "### Evaluation"
   ]
  },
  {
   "cell_type": "code",
   "execution_count": 102,
   "metadata": {},
   "outputs": [
    {
     "data": {
      "text/plain": [
       "array([[36,  8],\n",
       "       [ 2, 68]], dtype=int64)"
      ]
     },
     "execution_count": 102,
     "metadata": {},
     "output_type": "execute_result"
    }
   ],
   "source": [
    "y_pre = model.predict(X_test)\n",
    "confusion_matrix(y_test, y_pre)"
   ]
  },
  {
   "cell_type": "code",
   "execution_count": 103,
   "metadata": {},
   "outputs": [
    {
     "data": {
      "text/plain": [
       "8987.740526402751"
      ]
     },
     "execution_count": 103,
     "metadata": {},
     "output_type": "execute_result"
    }
   ],
   "source": [
    "model.inertia_"
   ]
  },
  {
   "cell_type": "markdown",
   "metadata": {},
   "source": [
    "### Modeling - Hierarchical Clustering"
   ]
  },
  {
   "cell_type": "code",
   "execution_count": 104,
   "metadata": {},
   "outputs": [
    {
     "data": {
      "text/plain": [
       "AgglomerativeClustering()"
      ]
     },
     "execution_count": 104,
     "metadata": {},
     "output_type": "execute_result"
    }
   ],
   "source": [
    "model = AgglomerativeClustering()\n",
    "model.fit(X_train)"
   ]
  },
  {
   "cell_type": "code",
   "execution_count": 105,
   "metadata": {},
   "outputs": [
    {
     "data": {
      "text/plain": [
       "array([[40,  8],\n",
       "       [ 4, 62]], dtype=int64)"
      ]
     },
     "execution_count": 105,
     "metadata": {},
     "output_type": "execute_result"
    }
   ],
   "source": [
    "y_pre = model.fit_predict(X_test)\n",
    "confusion_matrix(y_pre, y_test)"
   ]
  },
  {
   "cell_type": "markdown",
   "metadata": {},
   "source": [
    "### Modeling - DBSCAN"
   ]
  },
  {
   "cell_type": "code",
   "execution_count": 106,
   "metadata": {},
   "outputs": [
    {
     "data": {
      "text/plain": [
       "array([-1,  0, -1, -1,  0,  0, -1,  1, -1,  0, -1, -1,  0, -1, -1, -1,  0,\n",
       "        0, -1, -1, -1,  0,  0,  0,  0, -1,  0, -1, -1, -1, -1,  0, -1, -1,\n",
       "       -1, -1, -1, -1, -1, -1, -1, -1, -1, -1, -1, -1, -1, -1,  0, -1, -1,\n",
       "       -1, -1,  0, -1,  0, -1, -1, -1, -1, -1, -1, -1,  0, -1,  0,  0, -1,\n",
       "        0, -1, -1, -1, -1,  0, -1, -1, -1, -1, -1,  0, -1, -1,  0, -1, -1,\n",
       "       -1, -1, -1, -1,  0, -1, -1, -1, -1, -1,  0,  0,  0, -1, -1, -1,  0,\n",
       "       -1, -1, -1,  0, -1, -1, -1, -1,  0, -1, -1, -1, -1, -1,  0, -1,  0,\n",
       "       -1, -1, -1, -1,  0, -1,  0,  0, -1, -1,  0, -1, -1,  0, -1,  0,  0,\n",
       "       -1, -1, -1, -1, -1, -1, -1, -1, -1, -1, -1, -1, -1, -1, -1, -1, -1,\n",
       "       -1, -1, -1,  0, -1,  1,  0,  1,  1, -1,  0,  0, -1, -1, -1, -1,  1,\n",
       "       -1,  0, -1, -1, -1,  0,  0, -1, -1, -1,  1,  0, -1, -1, -1, -1, -1,\n",
       "       -1, -1,  0, -1, -1,  0, -1,  1, -1,  0, -1, -1, -1,  0,  0, -1, -1,\n",
       "       -1, -1, -1, -1,  0, -1, -1,  0,  0,  0, -1, -1, -1, -1, -1, -1, -1,\n",
       "       -1, -1,  0,  0, -1, -1, -1, -1, -1, -1, -1, -1,  0,  0, -1, -1,  0,\n",
       "       -1,  0, -1, -1, -1, -1,  0, -1,  0, -1, -1, -1, -1, -1, -1, -1, -1,\n",
       "       -1, -1, -1, -1, -1,  0, -1,  0,  0,  1, -1, -1,  0, -1,  0,  0,  0,\n",
       "       -1,  0, -1,  0, -1, -1,  0, -1, -1, -1, -1,  0, -1, -1,  0,  0, -1,\n",
       "       -1, -1, -1,  0, -1, -1, -1,  0, -1, -1,  0, -1, -1, -1, -1,  0, -1,\n",
       "        1, -1, -1, -1,  0, -1,  0, -1, -1, -1, -1,  0,  0, -1,  0, -1,  0,\n",
       "       -1, -1,  0, -1, -1,  0,  0, -1,  1, -1, -1, -1, -1,  0,  0, -1,  0,\n",
       "       -1, -1,  0,  0, -1, -1,  0, -1, -1, -1, -1,  0, -1, -1,  0,  0, -1,\n",
       "       -1, -1,  0, -1, -1, -1, -1, -1, -1, -1,  0, -1, -1,  0,  0, -1,  0,\n",
       "       -1,  0, -1, -1, -1, -1,  0, -1, -1, -1, -1, -1,  0, -1, -1, -1, -1,\n",
       "       -1,  0, -1,  0, -1, -1,  0, -1, -1, -1, -1, -1, -1,  1, -1, -1, -1,\n",
       "        0, -1, -1, -1,  0, -1, -1, -1, -1,  0, -1,  0, -1,  0, -1, -1, -1,\n",
       "        0, -1, -1, -1, -1, -1, -1, -1, -1, -1, -1, -1,  0,  0,  0,  0, -1,\n",
       "       -1, -1,  0, -1,  0, -1, -1, -1,  0, -1, -1,  0, -1], dtype=int64)"
      ]
     },
     "execution_count": 106,
     "metadata": {},
     "output_type": "execute_result"
    }
   ],
   "source": [
    "model = DBSCAN(eps = 2, min_samples = 5)\n",
    "model.fit(X_train)\n",
    "model.labels_"
   ]
  },
  {
   "cell_type": "code",
   "execution_count": null,
   "metadata": {},
   "outputs": [],
   "source": []
  },
  {
   "cell_type": "code",
   "execution_count": null,
   "metadata": {},
   "outputs": [],
   "source": []
  }
 ],
 "metadata": {
  "kernelspec": {
   "display_name": "Python 3",
   "language": "python",
   "name": "python3"
  },
  "language_info": {
   "codemirror_mode": {
    "name": "ipython",
    "version": 3
   },
   "file_extension": ".py",
   "mimetype": "text/x-python",
   "name": "python",
   "nbconvert_exporter": "python",
   "pygments_lexer": "ipython3",
   "version": "3.7.9"
  }
 },
 "nbformat": 4,
 "nbformat_minor": 4
}
