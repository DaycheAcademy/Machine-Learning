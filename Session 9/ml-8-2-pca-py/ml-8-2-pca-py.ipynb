{
 "cells": [
  {
   "cell_type": "markdown",
   "metadata": {},
   "source": [
    "# Initialization"
   ]
  },
  {
   "cell_type": "code",
   "execution_count": 113,
   "metadata": {},
   "outputs": [],
   "source": [
    "import pandas as pd \n",
    "from sklearn.decomposition import PCA, KernelPCA\n",
    "import numpy as np \n",
    "import matplotlib.pyplot as plt \n",
    "from sklearn.preprocessing import StandardScaler\n",
    "from sklearn.model_selection import train_test_split\n",
    "from sklearn.datasets import load_breast_cancer\n",
    "from sklearn.svm import SVC\n",
    "from sklearn.metrics import confusion_matrix"
   ]
  },
  {
   "cell_type": "markdown",
   "metadata": {},
   "source": [
    "## Data loading - Test, train split"
   ]
  },
  {
   "cell_type": "code",
   "execution_count": 114,
   "metadata": {},
   "outputs": [],
   "source": [
    "data = load_breast_cancer()\n",
    "X = data.data\n",
    "y = data.target\n",
    "X_train, X_test, y_train, y_test = train_test_split(X, y, test_size = 0.3, shuffle = False)"
   ]
  },
  {
   "cell_type": "markdown",
   "metadata": {},
   "source": [
    "## Normalization"
   ]
  },
  {
   "cell_type": "code",
   "execution_count": 115,
   "metadata": {},
   "outputs": [],
   "source": [
    "scaler = StandardScaler().fit(X_train)\n",
    "X_train, X_test = scaler.transform(X_train), scaler.transform(X_test)"
   ]
  },
  {
   "cell_type": "markdown",
   "metadata": {},
   "source": [
    "## PCA "
   ]
  },
  {
   "cell_type": "code",
   "execution_count": 118,
   "metadata": {},
   "outputs": [
    {
     "data": {
      "text/plain": [
       "[<matplotlib.lines.Line2D at 0x1d51ca38dc8>]"
      ]
     },
     "execution_count": 118,
     "metadata": {},
     "output_type": "execute_result"
    },
    {
     "data": {
      "image/png": "[encoded data removed]",
      "text/plain": [
       "<Figure size 432x288 with 1 Axes>"
      ]
     },
     "metadata": {
      "needs_background": "light"
     },
     "output_type": "display_data"
    }
   ],
   "source": [
    "pca = PCA()\n",
    "pca.fit(X_train)\n",
    "singular_values, total = pca.explained_variance_, sum(pca.explained_variance_)\n",
    "re_error = []\n",
    "err = 0\n",
    "for item in singular_values:\n",
    "    err += item\n",
    "    re_error.append(1 - err/total)\n",
    "    \n",
    "plt.plot(re_error, 'b-.')"
   ]
  },
  {
   "cell_type": "code",
   "execution_count": 119,
   "metadata": {},
   "outputs": [
    {
     "data": {
      "text/plain": [
       "[0.5543715163759735,\n",
       " 0.36281795545172224,\n",
       " 0.26217853705784033,\n",
       " 0.20418982487589266,\n",
       " 0.15122088030438186,\n",
       " 0.11188553572873194,\n",
       " 0.09032012063036643,\n",
       " 0.07417702677726246,\n",
       " 0.06020313619915563,\n",
       " 0.04872819908426251,\n",
       " 0.0382399977836867,\n",
       " 0.0295948090024869,\n",
       " 0.021903243499438396,\n",
       " 0.016593087318969135,\n",
       " 0.013429825685248309,\n",
       " 0.010759320065443556,\n",
       " 0.008682207369842043,\n",
       " 0.006820009567246044,\n",
       " 0.005385676478357415,\n",
       " 0.004266481883903439,\n",
       " 0.003303272656165923,\n",
       " 0.002388154890499372,\n",
       " 0.0017157430860555989,\n",
       " 0.0011155752679019582,\n",
       " 0.0005772862757276176,\n",
       " 0.00031964655687366506,\n",
       " 8.67059078155652e-05,\n",
       " 3.2784827827869734e-05,\n",
       " 4.536720804027006e-06,\n",
       " 0.0]"
      ]
     },
     "execution_count": 119,
     "metadata": {},
     "output_type": "execute_result"
    }
   ],
   "source": [
    "re_error"
   ]
  },
  {
   "cell_type": "markdown",
   "metadata": {},
   "source": [
    "## Data transformation"
   ]
  },
  {
   "cell_type": "code",
   "execution_count": 121,
   "metadata": {},
   "outputs": [
    {
     "name": "stdout",
     "output_type": "stream",
     "text": [
      "(398, 30) (398, 17)\n"
     ]
    }
   ],
   "source": [
    "pc = 17\n",
    "transformation = pca.components_[:, 0:pc]\n",
    "X_train_transformed = np.dot(X_train, transformation)\n",
    "X_test_transformed = np.dot(X_test, transformation)\n",
    "print(X_train.shape, X_train_transformed.shape)"
   ]
  },
  {
   "cell_type": "markdown",
   "metadata": {},
   "source": [
    "## Classification"
   ]
  },
  {
   "cell_type": "code",
   "execution_count": 124,
   "metadata": {},
   "outputs": [
    {
     "data": {
      "text/plain": [
       "array([[ 39,   0],\n",
       "       [  3, 129]], dtype=int64)"
      ]
     },
     "execution_count": 124,
     "metadata": {},
     "output_type": "execute_result"
    }
   ],
   "source": [
    "model = SVC(kernel = 'rbf')\n",
    "model.fit(X_train_transformed, y_train)\n",
    "y_pre = model.predict(X_test_transformed)\n",
    "confusion_matrix(y_pre, y_test).T"
   ]
  },
  {
   "cell_type": "markdown",
   "metadata": {},
   "source": [
    "## Kernel PCA"
   ]
  },
  {
   "cell_type": "code",
   "execution_count": 125,
   "metadata": {},
   "outputs": [],
   "source": [
    "kernel_pca = KernelPCA(n_components = pc, kernel = 'rbf')\n",
    "kernel_pca.fit(X_train)\n",
    "X_train_transformed = kernel_pca.transform(X_train)\n",
    "X_test_transformed = kernel_pca.transform(X_test)"
   ]
  },
  {
   "cell_type": "markdown",
   "metadata": {},
   "source": [
    "## Modeling"
   ]
  },
  {
   "cell_type": "code",
   "execution_count": 127,
   "metadata": {},
   "outputs": [
    {
     "data": {
      "text/plain": [
       "array([[ 39,   0],\n",
       "       [  5, 127]], dtype=int64)"
      ]
     },
     "execution_count": 127,
     "metadata": {},
     "output_type": "execute_result"
    }
   ],
   "source": [
    "model = SVC()\n",
    "model.fit(X_train_transformed, y_train)\n",
    "y_pre = model.predict(X_test_transformed)\n",
    "confusion_matrix(y_pre, y_test).T"
   ]
  },
  {
   "cell_type": "code",
   "execution_count": null,
   "metadata": {},
   "outputs": [],
   "source": []
  }
 ],
 "metadata": {
  "kernelspec": {
   "display_name": "Python 3",
   "language": "python",
   "name": "python3"
  },
  "language_info": {
   "codemirror_mode": {
    "name": "ipython",
    "version": 3
   },
   "file_extension": ".py",
   "mimetype": "text/x-python",
   "name": "python",
   "nbconvert_exporter": "python",
   "pygments_lexer": "ipython3",
   "version": "3.7.9"
  }
 },
 "nbformat": 4,
 "nbformat_minor": 4
}
